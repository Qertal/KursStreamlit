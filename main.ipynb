{
 "cells": [
  {
   "cell_type": "code",
   "execution_count": 1,
   "metadata": {},
   "outputs": [],
   "source": [
    "import numpy as np"
   ]
  },
  {
   "cell_type": "code",
   "execution_count": 26,
   "metadata": {},
   "outputs": [
    {
     "name": "stdout",
     "output_type": "stream",
     "text": [
      "Macierz odległości dla p = 5 wygląda następująco:\n",
      "[[ 0.    5.6  10.4   6.86]\n",
      " [ 5.6   0.   10.22  6.36]\n",
      " [10.4  10.22  0.    6.59]\n",
      " [ 6.86  6.36  6.59  0.  ]],\n",
      "a średnica zbioru:\n",
      "10.404948191522992\n",
      "Macierz odległości dla p = 2 wygląda następująco:\n",
      "[[ 0.   15.78 10.1  14.56]\n",
      " [15.78  0.   14.93 16.28]\n",
      " [10.1  14.93  0.   14.42]\n",
      " [14.56 16.28 14.42  0.  ]],\n",
      "a średnica zbioru:\n",
      "16.278820596099706\n",
      "Odległośc dla p = 3 między tymi zbiorami wynosi:\n",
      "6.333025531362916\n"
     ]
    }
   ],
   "source": [
    "def metryka_minkowskiego(x,y,p):\n",
    "    if p >=1 and p != float('inf'):\n",
    "        wynik = (np.sum((abs(x-y))**p))**(1/p)\n",
    "    elif p < 1 and p >= 0:\n",
    "        wynik = np.sum(abs((x-y))**p)\n",
    "    elif p == float('inf'):\n",
    "        wynik = np.max(abs(x-y))\n",
    "    return wynik\n",
    "\n",
    "def macierz_odleglosci(x,p):\n",
    "    rozmiar = len(x)\n",
    "    D = np.zeros((rozmiar,rozmiar))\n",
    "    for i in range(len(x)):\n",
    "        for j in range(i,len(x)):\n",
    "            D[j,i] = D[i,j] = metryka_minkowskiego(x[i],x[j],p)\n",
    "    return print(f\"Macierz odległości dla p = {p} wygląda następująco:\\n{np.round(D,2)},\\na średnica zbioru:\\n{np.max(D)}\")\n",
    "\n",
    "def odleglosc_miedzy_zbiorami(x,y,p):\n",
    "    rozmiar_x = len(x)\n",
    "    rozmiar_y = len(y)\n",
    "    D = np.zeros((rozmiar_x,rozmiar_y))\n",
    "    for i in range(len(x)):\n",
    "        for j in range(len(y)):\n",
    "            D[i,j] = metryka_minkowskiego(x[i],y[j],p)\n",
    "    return print(f'Odległośc dla p = {p} między tymi zbiorami wynosi:\\n{np.min(D)}')\n",
    "\n",
    "x = np.round(np.random.random_sample(10)*10)\n",
    "y = np.round(np.random.random_sample(10)*10)\n",
    "z = np.round(np.random.random_sample(10)*10)\n",
    "w = np.round(np.random.random_sample(10)*10)\n",
    "\n",
    "a = np.round(np.random.random_sample(10)*10)\n",
    "b = np.round(np.random.random_sample(10)*10)\n",
    "c = np.round(np.random.random_sample(10)*10)\n",
    "d = np.round(np.random.random_sample(10)*10)\n",
    "\n",
    "X = np.array([x,y,z,w])\n",
    "Y = np.array([a,b,c,d])\n",
    "\n",
    "macierz_odleglosci(X,5)\n",
    "\n",
    "macierz_odleglosci(Y,2)\n",
    "\n",
    "odleglosc_miedzy_zbiorami(X,Y,3)"
   ]
  },
  {
   "cell_type": "code",
   "execution_count": 28,
   "metadata": {},
   "outputs": [
    {
     "data": {
      "text/plain": [
       "'abecadlo'"
      ]
     },
     "execution_count": 28,
     "metadata": {},
     "output_type": "execute_result"
    }
   ],
   "source": [
    "test = \"abecadlo\"\n",
    "test"
   ]
  },
  {
   "cell_type": "code",
   "execution_count": 30,
   "metadata": {},
   "outputs": [
    {
     "data": {
      "text/plain": [
       "'abec'"
      ]
     },
     "execution_count": 30,
     "metadata": {},
     "output_type": "execute_result"
    }
   ],
   "source": [
    "test[:-4]"
   ]
  },
  {
   "cell_type": "code",
   "execution_count": null,
   "metadata": {},
   "outputs": [],
   "source": []
  }
 ],
 "metadata": {
  "kernelspec": {
   "display_name": "kursstreamlit",
   "language": "python",
   "name": "python3"
  },
  "language_info": {
   "codemirror_mode": {
    "name": "ipython",
    "version": 3
   },
   "file_extension": ".py",
   "mimetype": "text/x-python",
   "name": "python",
   "nbconvert_exporter": "python",
   "pygments_lexer": "ipython3",
   "version": "3.10.11"
  }
 },
 "nbformat": 4,
 "nbformat_minor": 2
}
